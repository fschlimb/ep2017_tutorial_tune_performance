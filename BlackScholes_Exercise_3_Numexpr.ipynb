{
 "cells": [
  {
   "cell_type": "markdown",
   "metadata": {},
   "source": [
    "# Black Scholes Exercise 3: Numexpr implementation\n",
    "\n",
    "- Use cProfile and Line Profiler to look for bottlenecks and hotspots in the code"
   ]
  },
  {
   "cell_type": "code",
   "execution_count": 1,
   "metadata": {
    "collapsed": true
   },
   "outputs": [],
   "source": [
    "# Boilerplate for the example\n",
    "\n",
    "import cProfile\n",
    "import pstats\n",
    "import numpy as np\n",
    "%load_ext line_profiler\n",
    "\n",
    "try:\n",
    "    import numpy.random_intel as rnd\n",
    "except:\n",
    "    import numpy.random as rnd\n",
    "\n",
    "# make xrange available in python 3\n",
    "try:\n",
    "    xrange\n",
    "except NameError:\n",
    "    xrange = range\n",
    "\n",
    "SEED = 7777777\n",
    "S0L = 10.0\n",
    "S0H = 50.0\n",
    "XL = 10.0\n",
    "XH = 50.0\n",
    "TL = 1.0\n",
    "TH = 2.0\n",
    "RISK_FREE = 0.1\n",
    "VOLATILITY = 0.2\n",
    "TEST_ARRAY_LENGTH = 1024\n",
    "\n",
    "###############################################\n",
    "\n",
    "def gen_data(nopt):\n",
    "    return (\n",
    "        rnd.uniform(S0L, S0H, nopt),\n",
    "        rnd.uniform(XL, XH, nopt),\n",
    "        rnd.uniform(TL, TH, nopt),\n",
    "        )\n",
    "\n",
    "nopt=100000\n",
    "price, strike, t = gen_data(nopt)\n",
    "call = np.zeros(nopt, dtype=np.float64)\n",
    "put  = -np.ones(nopt, dtype=np.float64)"
   ]
  },
  {
   "cell_type": "markdown",
   "metadata": {},
   "source": [
    "# The numexpr Black Scholes algorithm\n",
    "\n",
    "How does this differ from the NumPy and Naive variants?"
   ]
  },
  {
   "cell_type": "code",
   "execution_count": 2,
   "metadata": {},
   "outputs": [
    {
     "data": {
      "text/plain": [
       "'high'"
      ]
     },
     "execution_count": 2,
     "metadata": {},
     "output_type": "execute_result"
    }
   ],
   "source": [
    "import numexpr as ne\n",
    "\n",
    "def black_scholes (nopt, price, strike, t, rate, vol ):\n",
    "    mr = -rate\n",
    "    sig_sig_two = vol * vol * 2\n",
    "\n",
    "    P = price\n",
    "    S = strike\n",
    "    T = t\n",
    "\n",
    "    a = ne.evaluate(\"log(P / S) \")\n",
    "    b = ne.evaluate(\"T * mr \")\n",
    "\n",
    "    z = ne.evaluate(\"T * sig_sig_two \")\n",
    "    c = ne.evaluate(\"0.25 * z \")\n",
    "    y = ne.evaluate(\"1/sqrt(z) \")\n",
    "\n",
    "    w1 = ne.evaluate(\"(a - b + c) * y \")\n",
    "    w2 = ne.evaluate(\"(a - b - c) * y \")\n",
    "\n",
    "    d1 = ne.evaluate(\"0.5 + 0.5 * erf(w1) \")\n",
    "    d2 = ne.evaluate(\"0.5 + 0.5 * erf(w2) \")\n",
    "\n",
    "    Se = ne.evaluate(\"exp(b) * S \")\n",
    "\n",
    "    call = ne.evaluate(\"P * d1 - Se * d2 \")\n",
    "    put = ne.evaluate(\"call - P + Se \")\n",
    "\n",
    "    return call, put\n",
    "\n",
    "ne.set_num_threads(ne.detect_number_of_cores())\n",
    "ne.set_vml_accuracy_mode('high')"
   ]
  },
  {
   "cell_type": "markdown",
   "metadata": {},
   "source": [
    "## Run timeit, cProfile, and line_profiler to see what is happening"
   ]
  },
  {
   "cell_type": "code",
   "execution_count": 3,
   "metadata": {},
   "outputs": [
    {
     "name": "stdout",
     "output_type": "stream",
     "text": [
      "4.2 ms ± 283 µs per loop (mean ± std. dev. of 7 runs, 100 loops each)\n"
     ]
    }
   ],
   "source": [
    "%timeit black_scholes(nopt, price, strike, t, RISK_FREE, VOLATILITY)"
   ]
  },
  {
   "cell_type": "code",
   "execution_count": 4,
   "metadata": {},
   "outputs": [
    {
     "name": "stdout",
     "output_type": "stream",
     "text": [
      "         268 function calls in 0.006 seconds\n",
      "\n",
      "   Ordered by: standard name\n",
      "\n",
      "   ncalls  tottime  percall  cumtime  percall filename:lineno(function)\n",
      "        1    0.000    0.000    0.006    0.006 <ipython-input-2-9208cb827f7e>:3(black_scholes)\n",
      "        1    0.000    0.000    0.006    0.006 <string>:1(<module>)\n",
      "       12    0.000    0.000    0.000    0.000 necompiler.py:518(getContext)\n",
      "       27    0.000    0.000    0.000    0.000 necompiler.py:670(getType)\n",
      "       12    0.000    0.000    0.000    0.000 necompiler.py:709(getArguments)\n",
      "       12    0.006    0.000    0.006    0.001 necompiler.py:734(evaluate)\n",
      "       12    0.000    0.000    0.000    0.000 necompiler.py:790(<listcomp>)\n",
      "       27    0.000    0.000    0.000    0.000 numeric.py:463(asarray)\n",
      "        1    0.000    0.000    0.006    0.006 {built-in method builtins.exec}\n",
      "       12    0.000    0.000    0.000    0.000 {built-in method builtins.isinstance}\n",
      "       12    0.000    0.000    0.000    0.000 {built-in method builtins.sorted}\n",
      "       27    0.000    0.000    0.000    0.000 {built-in method numpy.core.multiarray.array}\n",
      "       24    0.000    0.000    0.000    0.000 {built-in method sys._getframe}\n",
      "       27    0.000    0.000    0.000    0.000 {method 'append' of 'list' objects}\n",
      "       12    0.000    0.000    0.000    0.000 {method 'copy' of 'dict' objects}\n",
      "        1    0.000    0.000    0.000    0.000 {method 'disable' of '_lsprof.Profiler' objects}\n",
      "       12    0.000    0.000    0.000    0.000 {method 'get' of 'dict' objects}\n",
      "       12    0.000    0.000    0.000    0.000 {method 'items' of 'dict' objects}\n",
      "       24    0.000    0.000    0.000    0.000 {method 'pop' of 'dict' objects}\n",
      "\n",
      "\n"
     ]
    }
   ],
   "source": [
    "cProfile.run('black_scholes(nopt, price, strike, t, RISK_FREE, VOLATILITY)')"
   ]
  },
  {
   "cell_type": "code",
   "execution_count": 5,
   "metadata": {
    "collapsed": true
   },
   "outputs": [],
   "source": [
    "%lprun -f black_scholes black_scholes(nopt, price, strike, t, RISK_FREE, VOLATILITY)"
   ]
  },
  {
   "cell_type": "markdown",
   "metadata": {},
   "source": [
    "## Crunching the commands down\n",
    "\n",
    "What is different in this variant of Black Scholes?"
   ]
  },
  {
   "cell_type": "code",
   "execution_count": 6,
   "metadata": {},
   "outputs": [
    {
     "data": {
      "text/plain": [
       "'high'"
      ]
     },
     "execution_count": 6,
     "metadata": {},
     "output_type": "execute_result"
    }
   ],
   "source": [
    "def black_scholes(price, strike, t, rate, vol ):\n",
    "    mr = -rate\n",
    "    sig_sig_two = vol * vol * 2\n",
    "    \n",
    "    P = price\n",
    "    S = strike\n",
    "    T = t\n",
    "\n",
    "    call = ne.evaluate(\"P * (0.5 + 0.5 * erf((log(P / S) - T * mr + 0.25 * T * sig_sig_two) * 1/sqrt(T * sig_sig_two))) - S * exp(T * mr) * (0.5 + 0.5 * erf((log(P / S) - T * mr - 0.25 * T * sig_sig_two) * 1/sqrt(T * sig_sig_two))) \")\n",
    "    put = ne.evaluate(\"call - P + S * exp(T * mr) \")\n",
    "    \n",
    "    return call, put\n",
    "        \n",
    "\n",
    "ne.set_num_threads(ne.detect_number_of_cores())\n",
    "ne.set_vml_accuracy_mode('high')"
   ]
  },
  {
   "cell_type": "markdown",
   "metadata": {},
   "source": [
    "## Run timeit, cProfile, and line_profiler to see what is happening"
   ]
  },
  {
   "cell_type": "code",
   "execution_count": 7,
   "metadata": {},
   "outputs": [
    {
     "name": "stdout",
     "output_type": "stream",
     "text": [
      "2.2 ms ± 263 µs per loop (mean ± std. dev. of 7 runs, 100 loops each)\n"
     ]
    }
   ],
   "source": [
    "%timeit black_scholes( price, strike, t, RISK_FREE, VOLATILITY)"
   ]
  },
  {
   "cell_type": "code",
   "execution_count": 8,
   "metadata": {},
   "outputs": [
    {
     "name": "stdout",
     "output_type": "stream",
     "text": [
      "         70 function calls in 0.004 seconds\n",
      "\n",
      "   Ordered by: standard name\n",
      "\n",
      "   ncalls  tottime  percall  cumtime  percall filename:lineno(function)\n",
      "        1    0.000    0.000    0.004    0.004 <ipython-input-6-b8361bbcd286>:1(black_scholes)\n",
      "        1    0.000    0.000    0.004    0.004 <string>:1(<module>)\n",
      "        2    0.000    0.000    0.000    0.000 necompiler.py:518(getContext)\n",
      "       10    0.000    0.000    0.000    0.000 necompiler.py:670(getType)\n",
      "        2    0.000    0.000    0.000    0.000 necompiler.py:709(getArguments)\n",
      "        2    0.004    0.002    0.004    0.002 necompiler.py:734(evaluate)\n",
      "        2    0.000    0.000    0.000    0.000 necompiler.py:790(<listcomp>)\n",
      "       10    0.000    0.000    0.000    0.000 numeric.py:463(asarray)\n",
      "        1    0.000    0.000    0.004    0.004 {built-in method builtins.exec}\n",
      "        2    0.000    0.000    0.000    0.000 {built-in method builtins.isinstance}\n",
      "        2    0.000    0.000    0.000    0.000 {built-in method builtins.sorted}\n",
      "       10    0.000    0.000    0.000    0.000 {built-in method numpy.core.multiarray.array}\n",
      "        4    0.000    0.000    0.000    0.000 {built-in method sys._getframe}\n",
      "       10    0.000    0.000    0.000    0.000 {method 'append' of 'list' objects}\n",
      "        2    0.000    0.000    0.000    0.000 {method 'copy' of 'dict' objects}\n",
      "        1    0.000    0.000    0.000    0.000 {method 'disable' of '_lsprof.Profiler' objects}\n",
      "        2    0.000    0.000    0.000    0.000 {method 'get' of 'dict' objects}\n",
      "        2    0.000    0.000    0.000    0.000 {method 'items' of 'dict' objects}\n",
      "        4    0.000    0.000    0.000    0.000 {method 'pop' of 'dict' objects}\n",
      "\n",
      "\n"
     ]
    }
   ],
   "source": [
    "cProfile.run('black_scholes(price, strike, t, RISK_FREE, VOLATILITY)')"
   ]
  },
  {
   "cell_type": "code",
   "execution_count": 9,
   "metadata": {
    "collapsed": true
   },
   "outputs": [],
   "source": [
    "%lprun -f black_scholes black_scholes(price, strike, t, RISK_FREE, VOLATILITY)"
   ]
  },
  {
   "cell_type": "code",
   "execution_count": null,
   "metadata": {
    "collapsed": true
   },
   "outputs": [],
   "source": []
  }
 ],
 "metadata": {
  "kernelspec": {
   "display_name": "IDP 3.6",
   "language": "python",
   "name": "idp36"
  },
  "language_info": {
   "codemirror_mode": {
    "name": "ipython",
    "version": 3
   },
   "file_extension": ".py",
   "mimetype": "text/x-python",
   "name": "python",
   "nbconvert_exporter": "python",
   "pygments_lexer": "ipython3",
   "version": "3.6.2"
  }
 },
 "nbformat": 4,
 "nbformat_minor": 1
}
