{
 "cells": [
  {
   "cell_type": "markdown",
   "metadata": {},
   "source": [
    "# Black Scholes Exercise 2: NumPy implementation\n",
    "\n",
    "- Use cProfile and Line Profiler to look for bottlenecks and hotspots in the code"
   ]
  },
  {
   "cell_type": "code",
   "execution_count": 1,
   "metadata": {
    "collapsed": false
   },
   "outputs": [],
   "source": [
    "# Boilerplate for the example\n",
    "\n",
    "import cProfile\n",
    "import pstats\n",
    "import numpy as np\n",
    "%load_ext line_profiler\n",
    "\n",
    "try:\n",
    "    import numpy.random_intel as rnd\n",
    "except:\n",
    "    import numpy.random as rnd\n",
    "\n",
    "# make xrange available in python 3\n",
    "try:\n",
    "    xrange\n",
    "except NameError:\n",
    "    xrange = range\n",
    "\n",
    "SEED = 7777777\n",
    "S0L = 10.0\n",
    "S0H = 50.0\n",
    "XL = 10.0\n",
    "XH = 50.0\n",
    "TL = 1.0\n",
    "TH = 2.0\n",
    "RISK_FREE = 0.1\n",
    "VOLATILITY = 0.2\n",
    "TEST_ARRAY_LENGTH = 1024\n",
    "\n",
    "###############################################\n",
    "\n",
    "def gen_data(nopt):\n",
    "    return (\n",
    "        rnd.uniform(S0L, S0H, nopt),\n",
    "        rnd.uniform(XL, XH, nopt),\n",
    "        rnd.uniform(TL, TH, nopt),\n",
    "        )\n",
    "\n",
    "nopt=100000\n",
    "price, strike, t = gen_data(nopt)\n",
    "call = np.zeros(nopt, dtype=np.float64)\n",
    "put  = -np.ones(nopt, dtype=np.float64)"
   ]
  },
  {
   "cell_type": "markdown",
   "metadata": {},
   "source": [
    "# The NumPy modified naive Black Scholes algorithm (looped)\n",
    "\n",
    "- Minimally converted code from the Naive example\n",
    "- TODO: Convert the math import to numpy variants"
   ]
  },
  {
   "cell_type": "code",
   "execution_count": 2,
   "metadata": {
    "collapsed": true
   },
   "outputs": [],
   "source": [
    "import numpy as np\n",
    "from numpy import log, invsqrt, exp, erf\n",
    "#invsqrt = lambda x: 1.0/sqrt(x)\n",
    "\n",
    "def black_scholes(nopt, price, strike, t, rate, vol, call, put):\n",
    "    mr = -rate\n",
    "    sig_sig_two = vol * vol * 2\n",
    "    \n",
    "    for i in range(nopt):\n",
    "        P = price[i]\n",
    "        S = strike[i]\n",
    "        T = t[i]\n",
    "        \n",
    "        a = log(P / S)\n",
    "        b = T * mr\n",
    "        \n",
    "        z = T * sig_sig_two\n",
    "        c = 0.25 * z\n",
    "        y = invsqrt(z)\n",
    "        \n",
    "        w1 = (a - b + c) * y\n",
    "        w2 = (a - b - c) * y\n",
    "        \n",
    "        d1 = 0.5 + 0.5 * erf(w1)\n",
    "        d2 = 0.5 + 0.5 * erf(w2)\n",
    "        \n",
    "        Se = exp(b) * S\n",
    "        \n",
    "        call[i] = P * d1 - Se * d2\n",
    "        put[i] = call[i] - P + Se\n",
    "        #print(call,put)\n"
   ]
  },
  {
   "cell_type": "markdown",
   "metadata": {},
   "source": [
    "## Run timeit, cProfile, and line_profiler to see what is happening"
   ]
  },
  {
   "cell_type": "code",
   "execution_count": null,
   "metadata": {
    "collapsed": true
   },
   "outputs": [],
   "source": []
  },
  {
   "cell_type": "markdown",
   "metadata": {},
   "source": [
    "## _Why does this example take longer, even with performance libraries?_"
   ]
  },
  {
   "cell_type": "markdown",
   "metadata": {},
   "source": [
    "When using NumPy, we need to unloop the function and utilize NumPy Arrays to achieve vectorization.  \n",
    "Notice the below function removes the loop, but now uses strike, price, and t as _entire_ arrays."
   ]
  },
  {
   "cell_type": "code",
   "execution_count": 4,
   "metadata": {
    "collapsed": true
   },
   "outputs": [],
   "source": [
    "def black_scholes(nopt, price, strike, t, rate, vol):\n",
    "    mr = -rate\n",
    "    sig_sig_two = vol * vol * 2\n",
    "\n",
    "    P = price\n",
    "    S = strike\n",
    "    T = t\n",
    "\n",
    "    a = log(P / S)\n",
    "    b = T * mr\n",
    "\n",
    "    z = T * sig_sig_two\n",
    "    c = 0.25 * z\n",
    "    y = invsqrt(z)\n",
    "\n",
    "    w1 = (a - b + c) * y\n",
    "    w2 = (a - b - c) * y\n",
    "\n",
    "    d1 = 0.5 + 0.5 * erf(w1)\n",
    "    d2 = 0.5 + 0.5 * erf(w2)\n",
    "\n",
    "    Se = exp(b) * S\n",
    "\n",
    "    call = P * d1 - Se * d2\n",
    "    put = call - P + Se\n",
    "    \n",
    "    return (call, put)"
   ]
  },
  {
   "cell_type": "markdown",
   "metadata": {},
   "source": [
    "## Run timeit, cProfile, and line_profiler to see what is happening"
   ]
  },
  {
   "cell_type": "code",
   "execution_count": null,
   "metadata": {
    "collapsed": true
   },
   "outputs": [],
   "source": []
  }
 ],
 "metadata": {
  "kernelspec": {
   "display_name": "Python 3",
   "language": "python",
   "name": "python3"
  },
  "language_info": {
   "codemirror_mode": {
    "name": "ipython",
    "version": 3
   },
   "file_extension": ".py",
   "mimetype": "text/x-python",
   "name": "python",
   "nbconvert_exporter": "python",
   "pygments_lexer": "ipython3",
   "version": "3.5.2"
  }
 },
 "nbformat": 4,
 "nbformat_minor": 1
}
