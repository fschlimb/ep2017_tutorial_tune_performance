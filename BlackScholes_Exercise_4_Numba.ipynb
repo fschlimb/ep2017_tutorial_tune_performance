{
 "cells": [
  {
   "cell_type": "markdown",
   "metadata": {},
   "source": [
    "# Black Scholes Exercise 4: Numba implementation\n",
    "\n",
    "- Use cProfile and Line Profiler to look for bottlenecks and hotspots in the code"
   ]
  },
  {
   "cell_type": "code",
   "execution_count": 4,
   "metadata": {},
   "outputs": [
    {
     "name": "stdout",
     "output_type": "stream",
     "text": [
      "The line_profiler extension is already loaded. To reload it, use:\n",
      "  %reload_ext line_profiler\n"
     ]
    }
   ],
   "source": [
    "# Boilerplate for the example\n",
    "\n",
    "import cProfile\n",
    "import pstats\n",
    "import numpy as np\n",
    "%load_ext line_profiler\n",
    "\n",
    "try:\n",
    "    import numpy.random_intel as rnd\n",
    "except:\n",
    "    import numpy.random as rnd\n",
    "\n",
    "# make xrange available in python 3\n",
    "try:\n",
    "    xrange\n",
    "except NameError:\n",
    "    xrange = range\n",
    "\n",
    "SEED = 7777777\n",
    "S0L = 10.0\n",
    "S0H = 50.0\n",
    "XL = 10.0\n",
    "XH = 50.0\n",
    "TL = 1.0\n",
    "TH = 2.0\n",
    "RISK_FREE = 0.1\n",
    "VOLATILITY = 0.2\n",
    "TEST_ARRAY_LENGTH = 1024\n",
    "\n",
    "###############################################\n",
    "\n",
    "def gen_data(nopt):\n",
    "    return (\n",
    "        rnd.uniform(S0L, S0H, nopt),\n",
    "        rnd.uniform(XL, XH, nopt),\n",
    "        rnd.uniform(TL, TH, nopt),\n",
    "        )\n",
    "\n",
    "nopt=100000\n",
    "price, strike, t = gen_data(nopt)\n",
    "call = np.zeros(nopt, dtype=np.float64)\n",
    "put  = -np.ones(nopt, dtype=np.float64)\n",
    "\n"
   ]
  },
  {
   "cell_type": "markdown",
   "metadata": {},
   "source": [
    "# The Numba Black Scholes algorithm\n",
    "\n",
    "What is different in the code?"
   ]
  },
  {
   "cell_type": "code",
   "execution_count": 5,
   "metadata": {
    "collapsed": true
   },
   "outputs": [],
   "source": [
    "import numba as nb\n",
    "from math import log, sqrt, exp, erf\n",
    "\n",
    "@nb.jit('(i8,f8[:],f8[:],f8[:],f8,f8,f8[:],f8[:])', nopython=True, cache=True)\n",
    "def black_scholes( nopt, price, strike, t, rate, vol, call, put):\n",
    "    mr = -rate\n",
    "    sig_sig_two = vol * vol * 2\n",
    "\n",
    "    for i in range(nopt):\n",
    "        P = float( price[i] )\n",
    "        S = strike [i]\n",
    "        T = t [i]\n",
    "\n",
    "        a = log(P / S)\n",
    "        b = T * mr\n",
    "\n",
    "        z = T * sig_sig_two\n",
    "        c = 0.25 * z\n",
    "        y = 1./sqrt(z)\n",
    "\n",
    "        w1 = (a - b + c) * y \n",
    "        w2 = (a - b - c) * y\n",
    "\n",
    "        d1 = 0.5 + 0.5 * erf(w1)\n",
    "        d2 = 0.5 + 0.5 * erf(w2)\n",
    "\n",
    "        Se = exp(b) * S\n",
    "\n",
    "        call [i] = P * d1 - Se * d2\n",
    "        put [i] = call [i] - P + Se\n"
   ]
  },
  {
   "cell_type": "markdown",
   "metadata": {},
   "source": [
    "## Run timeit, cProfile, and line_profiler to see what is happening"
   ]
  },
  {
   "cell_type": "code",
   "execution_count": 6,
   "metadata": {},
   "outputs": [
    {
     "name": "stdout",
     "output_type": "stream",
     "text": [
      "11.5 ms ± 667 µs per loop (mean ± std. dev. of 7 runs, 100 loops each)\n"
     ]
    }
   ],
   "source": [
    "%timeit black_scholes(nopt, price, strike, t, RISK_FREE, VOLATILITY, call, put)"
   ]
  },
  {
   "cell_type": "code",
   "execution_count": 7,
   "metadata": {},
   "outputs": [
    {
     "name": "stdout",
     "output_type": "stream",
     "text": [
      "         4 function calls in 0.013 seconds\n",
      "\n",
      "   Ordered by: standard name\n",
      "\n",
      "   ncalls  tottime  percall  cumtime  percall filename:lineno(function)\n",
      "        1    0.013    0.013    0.013    0.013 <ipython-input-5-b73323227477>:4(black_scholes)\n",
      "        1    0.000    0.000    0.013    0.013 <string>:1(<module>)\n",
      "        1    0.000    0.000    0.013    0.013 {built-in method builtins.exec}\n",
      "        1    0.000    0.000    0.000    0.000 {method 'disable' of '_lsprof.Profiler' objects}\n",
      "\n",
      "\n"
     ]
    }
   ],
   "source": [
    "cProfile.run('black_scholes(nopt, price, strike, t, RISK_FREE, VOLATILITY, call, put)')"
   ]
  },
  {
   "cell_type": "code",
   "execution_count": 8,
   "metadata": {
    "collapsed": true
   },
   "outputs": [],
   "source": [
    "%lprun -f black_scholes black_scholes(nopt, price, strike, t, RISK_FREE, VOLATILITY, call, put)"
   ]
  },
  {
   "cell_type": "markdown",
   "metadata": {},
   "source": [
    "## Variant 2\n",
    "\n",
    "What changed in the code from the previous one to this one?"
   ]
  },
  {
   "cell_type": "code",
   "execution_count": 9,
   "metadata": {
    "collapsed": true
   },
   "outputs": [],
   "source": [
    "def black_scholes_numba_opt(price, strike, t, mr, sig_sig_two):\n",
    "        P = price\n",
    "        S = strike\n",
    "        T = t\n",
    "        \n",
    "        a = log(P / S)\n",
    "        b = T * mr\n",
    "        \n",
    "        z = T * sig_sig_two\n",
    "        c = 0.25 * z\n",
    "        y = 1./sqrt(z)\n",
    "        \n",
    "        w1 = (a - b + c) * y\n",
    "        w2 = (a - b - c) * y\n",
    "        \n",
    "        d1 = 0.5 + 0.5 * erf(w1)\n",
    "        d2 = 0.5 + 0.5 * erf(w2)\n",
    "        \n",
    "        Se = exp(b) * S\n",
    "        \n",
    "        r  = P * d1 - Se * d2\n",
    "        return complex(r, r - P + Se)\n"
   ]
  },
  {
   "cell_type": "code",
   "execution_count": 10,
   "metadata": {
    "collapsed": true
   },
   "outputs": [],
   "source": [
    "black_scholes_numba_opt_vec = nb.vectorize('c16(f8,f8,f8,f8,f8)', nopython=True)(black_scholes_numba_opt)\n",
    "\n",
    "@nb.jit\n",
    "def black_scholes(nopt, price, strike, t, rate, vol):\n",
    "    sig_sig_two = vol*vol*2\n",
    "    mr = -rate\n",
    "    black_scholes_numba_opt_vec(price, strike, t, mr, sig_sig_two)"
   ]
  },
  {
   "cell_type": "markdown",
   "metadata": {},
   "source": [
    "## Run timeit, cProfile, and line_profiler to see what is happening"
   ]
  },
  {
   "cell_type": "code",
   "execution_count": 11,
   "metadata": {},
   "outputs": [
    {
     "name": "stdout",
     "output_type": "stream",
     "text": [
      "11.8 ms ± 133 µs per loop (mean ± std. dev. of 7 runs, 100 loops each)\n"
     ]
    }
   ],
   "source": [
    "%timeit black_scholes(nopt, price, strike, t, RISK_FREE, VOLATILITY)"
   ]
  },
  {
   "cell_type": "code",
   "execution_count": 12,
   "metadata": {},
   "outputs": [
    {
     "name": "stdout",
     "output_type": "stream",
     "text": [
      "         4 function calls in 0.013 seconds\n",
      "\n",
      "   Ordered by: standard name\n",
      "\n",
      "   ncalls  tottime  percall  cumtime  percall filename:lineno(function)\n",
      "        1    0.013    0.013    0.013    0.013 <ipython-input-10-83ef3d26a385>:3(black_scholes)\n",
      "        1    0.001    0.001    0.013    0.013 <string>:1(<module>)\n",
      "        1    0.000    0.000    0.013    0.013 {built-in method builtins.exec}\n",
      "        1    0.000    0.000    0.000    0.000 {method 'disable' of '_lsprof.Profiler' objects}\n",
      "\n",
      "\n"
     ]
    }
   ],
   "source": [
    "cProfile.run('black_scholes(nopt, price, strike, t, RISK_FREE, VOLATILITY)')"
   ]
  },
  {
   "cell_type": "code",
   "execution_count": 14,
   "metadata": {},
   "outputs": [],
   "source": [
    "%lprun -f black_scholes black_scholes(nopt, price, strike, t, RISK_FREE, VOLATILITY)"
   ]
  },
  {
   "cell_type": "markdown",
   "metadata": {},
   "source": [
    "## Variant 3\n",
    "\n",
    "What does this change?"
   ]
  },
  {
   "cell_type": "code",
   "execution_count": 15,
   "metadata": {
    "collapsed": true
   },
   "outputs": [],
   "source": [
    "black_scholes_numba_opt_vec = nb.vectorize('c16(f8,f8,f8,f8,f8)', target=\"parallel\")(black_scholes_numba_opt)\n",
    "\n",
    "@nb.jit\n",
    "def black_scholes(nopt, price, strike, t, rate, vol):\n",
    "    sig_sig_two = vol*vol*2\n",
    "    mr = -rate\n",
    "    black_scholes_numba_opt_vec(price, strike, t, mr, sig_sig_two)"
   ]
  },
  {
   "cell_type": "markdown",
   "metadata": {},
   "source": [
    "## Run timeit, cProfile, and line_profiler to see what is happening"
   ]
  },
  {
   "cell_type": "code",
   "execution_count": 16,
   "metadata": {},
   "outputs": [
    {
     "name": "stdout",
     "output_type": "stream",
     "text": [
      "6.22 ms ± 1.2 ms per loop (mean ± std. dev. of 7 runs, 100 loops each)\n"
     ]
    }
   ],
   "source": [
    "%timeit black_scholes(nopt, price, strike, t, RISK_FREE, VOLATILITY)"
   ]
  },
  {
   "cell_type": "code",
   "execution_count": 17,
   "metadata": {},
   "outputs": [
    {
     "name": "stdout",
     "output_type": "stream",
     "text": [
      "         4 function calls in 0.009 seconds\n",
      "\n",
      "   Ordered by: standard name\n",
      "\n",
      "   ncalls  tottime  percall  cumtime  percall filename:lineno(function)\n",
      "        1    0.009    0.009    0.009    0.009 <ipython-input-15-3caac9f2da84>:3(black_scholes)\n",
      "        1    0.000    0.000    0.009    0.009 <string>:1(<module>)\n",
      "        1    0.000    0.000    0.009    0.009 {built-in method builtins.exec}\n",
      "        1    0.000    0.000    0.000    0.000 {method 'disable' of '_lsprof.Profiler' objects}\n",
      "\n",
      "\n"
     ]
    }
   ],
   "source": [
    "cProfile.run('black_scholes(nopt, price, strike, t, RISK_FREE, VOLATILITY)')"
   ]
  },
  {
   "cell_type": "code",
   "execution_count": 18,
   "metadata": {
    "collapsed": true
   },
   "outputs": [],
   "source": [
    "%lprun -f black_scholes black_scholes(nopt, price, strike, t, RISK_FREE, VOLATILITY)"
   ]
  },
  {
   "cell_type": "code",
   "execution_count": null,
   "metadata": {
    "collapsed": true
   },
   "outputs": [],
   "source": []
  }
 ],
 "metadata": {
  "kernelspec": {
   "display_name": "IDP 3.6",
   "language": "python",
   "name": "idp36"
  },
  "language_info": {
   "codemirror_mode": {
    "name": "ipython",
    "version": 3
   },
   "file_extension": ".py",
   "mimetype": "text/x-python",
   "name": "python",
   "nbconvert_exporter": "python",
   "pygments_lexer": "ipython3",
   "version": "3.6.2"
  }
 },
 "nbformat": 4,
 "nbformat_minor": 1
}
