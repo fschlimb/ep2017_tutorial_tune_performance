{
 "cells": [
  {
   "cell_type": "markdown",
   "metadata": {},
   "source": [
    "# Black Scholes Exercise 6: Cython implementation\n",
    "\n",
    "- Use cProfile and Line Profiler to look for bottlenecks and hotspots in the code"
   ]
  },
  {
   "cell_type": "code",
   "execution_count": 1,
   "metadata": {},
   "outputs": [],
   "source": [
    "#Boilerplate for the example\n",
    "\n",
    "import cProfile\n",
    "import pstats\n",
    "import numpy as np\n",
    "%load_ext Cython\n",
    "%load_ext line_profiler\n",
    "\n",
    "try:\n",
    "    import numpy.random_intel as rnd\n",
    "except:\n",
    "    import numpy.random as rnd\n",
    "\n",
    "# make xrange available in python 3\n",
    "try:\n",
    "    xrange\n",
    "except NameError:\n",
    "    xrange = range\n",
    "\n",
    "SEED = 7777777\n",
    "S0L = 10.0\n",
    "S0H = 50.0\n",
    "XL = 10.0\n",
    "XH = 50.0\n",
    "TL = 1.0\n",
    "TH = 2.0\n",
    "RISK_FREE = 0.1\n",
    "VOLATILITY = 0.2\n",
    "TEST_ARRAY_LENGTH = 1024\n",
    "\n",
    "###############################################\n",
    "\n",
    "def gen_data(nopt):\n",
    "    return (\n",
    "        rnd.uniform(S0L, S0H, nopt),\n",
    "        rnd.uniform(XL, XH, nopt),\n",
    "        rnd.uniform(TL, TH, nopt),\n",
    "        )\n",
    "\n",
    "nopt=100000\n",
    "price, strike, t = gen_data(nopt)\n",
    "call = np.zeros(nopt, dtype=np.float64)\n",
    "put  = -np.ones(nopt, dtype=np.float64)"
   ]
  },
  {
   "cell_type": "markdown",
   "metadata": {},
   "source": [
    "# The Cython Black Scholes algorithm"
   ]
  },
  {
   "cell_type": "markdown",
   "metadata": {},
   "source": [
    "You'll need to build from the .pyx file\n",
    "- Run the following: python setup_scholes.py build_ext --inplace"
   ]
  },
  {
   "cell_type": "markdown",
   "metadata": {},
   "source": [
    "Now you should be able to import the built cython component"
   ]
  },
  {
   "cell_type": "code",
   "execution_count": 2,
   "metadata": {},
   "outputs": [],
   "source": [
    "import cython_scholes"
   ]
  },
  {
   "cell_type": "markdown",
   "metadata": {},
   "source": [
    "And run timeit"
   ]
  },
  {
   "cell_type": "code",
   "execution_count": 3,
   "metadata": {},
   "outputs": [
    {
     "name": "stdout",
     "output_type": "stream",
     "text": [
      "12.9 ms ± 202 µs per loop (mean ± std. dev. of 7 runs, 100 loops each)\n"
     ]
    }
   ],
   "source": [
    "%timeit cython_scholes.black_scholes(nopt, price, strike, t, RISK_FREE, VOLATILITY, call, put)"
   ]
  },
  {
   "cell_type": "markdown",
   "metadata": {},
   "source": [
    "Run cProfile on it"
   ]
  },
  {
   "cell_type": "code",
   "execution_count": 4,
   "metadata": {},
   "outputs": [
    {
     "name": "stdout",
     "output_type": "stream",
     "text": [
      "         4 function calls in 0.013 seconds\n",
      "\n",
      "   Ordered by: standard name\n",
      "\n",
      "   ncalls  tottime  percall  cumtime  percall filename:lineno(function)\n",
      "        1    0.000    0.000    0.013    0.013 <string>:1(<module>)\n",
      "        1    0.000    0.000    0.013    0.013 {built-in method builtins.exec}\n",
      "        1    0.013    0.013    0.013    0.013 {cython_scholes.black_scholes}\n",
      "        1    0.000    0.000    0.000    0.000 {method 'disable' of '_lsprof.Profiler' objects}\n",
      "\n",
      "\n"
     ]
    }
   ],
   "source": [
    "cProfile.run('cython_scholes.black_scholes(nopt, price, strike, t, RISK_FREE, VOLATILITY, call, put)')"
   ]
  },
  {
   "cell_type": "code",
   "execution_count": 6,
   "metadata": {},
   "outputs": [
    {
     "name": "stderr",
     "output_type": "stream",
     "text": [
      "/Users/davidliu/anaconda/envs/idp36/lib/python3.6/site-packages/line_profiler.py:294: UserWarning: Could not extract a code object for the object <built-in function black_scholes>\n",
      "  profile = LineProfiler(*funcs)\n"
     ]
    }
   ],
   "source": [
    "%lprun -f cython_scholes.black_scholes cython_scholes.black_scholes(nopt, price, strike, t, RISK_FREE, VOLATILITY, call, put)"
   ]
  },
  {
   "cell_type": "code",
   "execution_count": null,
   "metadata": {
    "collapsed": true
   },
   "outputs": [],
   "source": []
  }
 ],
 "metadata": {
  "kernelspec": {
   "display_name": "IDP 3.6",
   "language": "python",
   "name": "idp36"
  },
  "language_info": {
   "codemirror_mode": {
    "name": "ipython",
    "version": 3
   },
   "file_extension": ".py",
   "mimetype": "text/x-python",
   "name": "python",
   "nbconvert_exporter": "python",
   "pygments_lexer": "ipython3",
   "version": "3.6.2"
  }
 },
 "nbformat": 4,
 "nbformat_minor": 1
}
